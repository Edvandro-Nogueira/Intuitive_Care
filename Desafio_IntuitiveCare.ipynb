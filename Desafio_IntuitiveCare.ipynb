{
  "nbformat": 4,
  "nbformat_minor": 0,
  "metadata": {
    "colab": {
      "name": "Desafio_IntuitiveCare.ipynb",
      "provenance": []
    },
    "kernelspec": {
      "name": "python3",
      "display_name": "Python 3"
    },
    "language_info": {
      "name": "python"
    }
  },
  "cells": [
    {
      "cell_type": "markdown",
      "metadata": {
        "id": "ZKRrMzvk0L34"
      },
      "source": [
        "**Desafio para Intuitive Care - Edvandro**\n",
        "\n",
        "---\n",
        "Web Scrap de site, obter pdf, ler determinadas tabelas, exportar para .csv e compacta-las num .zip\n",
        "\n",
        "\n",
        "\n"
      ]
    },
    {
      "cell_type": "code",
      "metadata": {
        "id": "HSomYLpMa05s"
      },
      "source": [
        "import lxml.html as parser\n",
        "import requests\n",
        "from urllib.parse import urlsplit, urljoin"
      ],
      "execution_count": null,
      "outputs": []
    },
    {
      "cell_type": "code",
      "metadata": {
        "id": "XdXcqxHXa_c0"
      },
      "source": [
        "url = 'http://www.ans.gov.br/prestadores/tiss-troca-de-informacao-de-saude-suplementar' #Primeiro site para visita de webscrap\n",
        "r = requests.get(url)\n",
        "html = parser.fromstring(r.text)"
      ],
      "execution_count": null,
      "outputs": []
    },
    {
      "cell_type": "code",
      "metadata": {
        "colab": {
          "base_uri": "https://localhost:8080/"
        },
        "id": "KJYDVQalbaT5",
        "outputId": "f4cab6bc-6b0e-49bf-b138-7e17679bdbe7"
      },
      "source": [
        "links = html.xpath(\"//a[@class='alert-link']/@href\") #No HTML percebi que com esta classe eu chegaria no link\n",
        "print(len(links))\n",
        "print(links[:3])"
      ],
      "execution_count": null,
      "outputs": [
        {
          "output_type": "stream",
          "text": [
            "5\n",
            "['/prestadores/tiss-troca-de-informacao-de-saude-suplementar/padrao-tiss-marco-2021', '/prestadores/tiss-troca-de-informacao-de-saude-suplementar/padrao-tiss-historico-das-versoes-dos-componentes-do-padrao-tiss', '/prestadores/tiss-troca-de-informacao-de-saude-suplementar/padrao-tiss-tabelas-relacionadas']\n"
          ],
          "name": "stdout"
        }
      ]
    },
    {
      "cell_type": "code",
      "metadata": {
        "colab": {
          "base_uri": "https://localhost:8080/"
        },
        "id": "B52g2HW0by5j",
        "outputId": "04f03921-7659-49b6-fbb5-af5f0bbe2407"
      },
      "source": [
        "st_url = \"http://www.ans.gov.br\" #Base da url\n",
        "links = [urljoin(st_url, l) for l in links]\n",
        "print(links[:3])\n",
        "links = [urlsplit(l)._replace(query=\"\").geturl() for l in links]\n",
        "print(links[:3])"
      ],
      "execution_count": null,
      "outputs": [
        {
          "output_type": "stream",
          "text": [
            "['http://www.ans.gov.br/prestadores/tiss-troca-de-informacao-de-saude-suplementar/padrao-tiss-marco-2021', 'http://www.ans.gov.br/prestadores/tiss-troca-de-informacao-de-saude-suplementar/padrao-tiss-historico-das-versoes-dos-componentes-do-padrao-tiss', 'http://www.ans.gov.br/prestadores/tiss-troca-de-informacao-de-saude-suplementar/padrao-tiss-tabelas-relacionadas']\n",
            "['http://www.ans.gov.br/prestadores/tiss-troca-de-informacao-de-saude-suplementar/padrao-tiss-marco-2021', 'http://www.ans.gov.br/prestadores/tiss-troca-de-informacao-de-saude-suplementar/padrao-tiss-historico-das-versoes-dos-componentes-do-padrao-tiss', 'http://www.ans.gov.br/prestadores/tiss-troca-de-informacao-de-saude-suplementar/padrao-tiss-tabelas-relacionadas']\n"
          ],
          "name": "stdout"
        }
      ]
    },
    {
      "cell_type": "code",
      "metadata": {
        "id": "MJEvhUXscTh_"
      },
      "source": [
        "url2 = links[0] #Estou navegando e pra acessar nova pagina, guardei na url2 o primeiro elemento da lista\n",
        "r2 = requests.get(url2)\n",
        "html2 = parser.fromstring(r2.text)"
      ],
      "execution_count": null,
      "outputs": []
    },
    {
      "cell_type": "code",
      "metadata": {
        "id": "E3JOt99-fPaX"
      },
      "source": [
        "#Poderia ter feito uma função, mas como o algoritmo é linear decidi reusar as variaveis\n",
        "url = links[0]\n",
        "r = requests.get(url)\n",
        "html = parser.fromstring(r.text)"
      ],
      "execution_count": null,
      "outputs": []
    },
    {
      "cell_type": "code",
      "metadata": {
        "colab": {
          "base_uri": "https://localhost:8080/"
        },
        "id": "qw2FDpm0fW3m",
        "outputId": "82e040f8-2986-4964-8fc8-fd7072a3fd82"
      },
      "source": [
        "links = html.xpath(\"//a[@class='btn btn-primary btn-sm center-block']/@href\") #Neste caso pra achar o pdf usei esta classe\n",
        "print(len(links))\n",
        "print(links[:3])"
      ],
      "execution_count": null,
      "outputs": [
        {
          "output_type": "stream",
          "text": [
            "5\n",
            "['/images/stories/Plano_de_saude_e_Operadoras/tiss/Padrao_tiss/tiss3/Padrão_TISS_Componente_Organizacional_202103.pdf', '/images/stories/Plano_de_saude_e_Operadoras/tiss/Padrao_tiss/tiss3/Padrao_TISS_Componente_de_Conteudo_e_Estrutura_202005.zip', '/images/stories/Plano_de_saude_e_Operadoras/tiss/Padrao_tiss/tiss3/padrao_tiss_representacao_de_conceitos_em_saude_202103.zip']\n"
          ],
          "name": "stdout"
        }
      ]
    },
    {
      "cell_type": "code",
      "metadata": {
        "colab": {
          "base_uri": "https://localhost:8080/"
        },
        "id": "jauMj1a0gQQL",
        "outputId": "bad251ef-2cd6-464c-cda2-34f736c3b4ef"
      },
      "source": [
        "st_url = \"http://www.ans.gov.br\" #Base da url\n",
        "links = [urljoin(st_url, l) for l in links]\n",
        "print(links[:3])\n",
        "links = [urlsplit(l)._replace(query=\"\").geturl() for l in links]\n",
        "print(links[:3])"
      ],
      "execution_count": null,
      "outputs": [
        {
          "output_type": "stream",
          "text": [
            "['http://www.ans.gov.br/images/stories/Plano_de_saude_e_Operadoras/tiss/Padrao_tiss/tiss3/Padrão_TISS_Componente_Organizacional_202103.pdf', 'http://www.ans.gov.br/images/stories/Plano_de_saude_e_Operadoras/tiss/Padrao_tiss/tiss3/Padrao_TISS_Componente_de_Conteudo_e_Estrutura_202005.zip', 'http://www.ans.gov.br/images/stories/Plano_de_saude_e_Operadoras/tiss/Padrao_tiss/tiss3/padrao_tiss_representacao_de_conceitos_em_saude_202103.zip']\n",
            "['http://www.ans.gov.br/images/stories/Plano_de_saude_e_Operadoras/tiss/Padrao_tiss/tiss3/Padrão_TISS_Componente_Organizacional_202103.pdf', 'http://www.ans.gov.br/images/stories/Plano_de_saude_e_Operadoras/tiss/Padrao_tiss/tiss3/Padrao_TISS_Componente_de_Conteudo_e_Estrutura_202005.zip', 'http://www.ans.gov.br/images/stories/Plano_de_saude_e_Operadoras/tiss/Padrao_tiss/tiss3/padrao_tiss_representacao_de_conceitos_em_saude_202103.zip']\n"
          ],
          "name": "stdout"
        }
      ]
    },
    {
      "cell_type": "code",
      "metadata": {
        "colab": {
          "base_uri": "https://localhost:8080/"
        },
        "id": "b18ylCDxgWlJ",
        "outputId": "91adef7f-57e9-4362-a0d8-8cd18569f396"
      },
      "source": [
        "#Atribui o link do pdf na variavel pdf\n",
        "pdf = links[0]\n",
        "print(pdf)"
      ],
      "execution_count": null,
      "outputs": [
        {
          "output_type": "stream",
          "text": [
            "http://www.ans.gov.br/images/stories/Plano_de_saude_e_Operadoras/tiss/Padrao_tiss/tiss3/Padrão_TISS_Componente_Organizacional_202103.pdf\n"
          ],
          "name": "stdout"
        }
      ]
    },
    {
      "cell_type": "code",
      "metadata": {
        "colab": {
          "base_uri": "https://localhost:8080/"
        },
        "id": "fqw5xrEqgZ9j",
        "outputId": "080a7f1d-b8c6-45cb-fa89-3364cedd7c61"
      },
      "source": [
        "#Baixar o pdf\n",
        "!wget $pdf"
      ],
      "execution_count": null,
      "outputs": [
        {
          "output_type": "stream",
          "text": [
            "--2021-05-07 14:39:20--  http://www.ans.gov.br/images/stories/Plano_de_saude_e_Operadoras/tiss/Padrao_tiss/tiss3/Padr%C3%A3o_TISS_Componente_Organizacional_202103.pdf\n",
            "Resolving www.ans.gov.br (www.ans.gov.br)... 177.223.210.68\n",
            "Connecting to www.ans.gov.br (www.ans.gov.br)|177.223.210.68|:80... connected.\n",
            "HTTP request sent, awaiting response... 200 OK\n",
            "Length: 3326314 (3.2M) [application/pdf]\n",
            "Saving to: ‘Padrão_TISS_Componente_Organizacional_202103.pdf.1’\n",
            "\n",
            "Padrão_TISS_Compone 100%[===================>]   3.17M  1.41MB/s    in 2.2s    \n",
            "\n",
            "2021-05-07 14:39:23 (1.41 MB/s) - ‘Padrão_TISS_Componente_Organizacional_202103.pdf.1’ saved [3326314/3326314]\n",
            "\n"
          ],
          "name": "stdout"
        }
      ]
    },
    {
      "cell_type": "code",
      "metadata": {
        "colab": {
          "base_uri": "https://localhost:8080/"
        },
        "id": "c8_o5_fChpbd",
        "outputId": "cbfaca9c-2656-4918-b91d-293a511c665a"
      },
      "source": [
        "#Vou fazer uso da Tabula a partir daqui para extrair os dados da tabela do pdf\n",
        "#https://github.com/chezou/tabula-py\n",
        "!java -version"
      ],
      "execution_count": null,
      "outputs": [
        {
          "output_type": "stream",
          "text": [
            "openjdk version \"11.0.10\" 2021-01-19\n",
            "OpenJDK Runtime Environment (build 11.0.10+9-Ubuntu-0ubuntu1.18.04)\n",
            "OpenJDK 64-Bit Server VM (build 11.0.10+9-Ubuntu-0ubuntu1.18.04, mixed mode, sharing)\n"
          ],
          "name": "stdout"
        }
      ]
    },
    {
      "cell_type": "code",
      "metadata": {
        "id": "ow9sL-Odl97_"
      },
      "source": [
        "!pip install -q tabula-py"
      ],
      "execution_count": null,
      "outputs": []
    },
    {
      "cell_type": "code",
      "metadata": {
        "colab": {
          "base_uri": "https://localhost:8080/"
        },
        "id": "DsSzPhzho9RT",
        "outputId": "bc45fcff-b92a-4770-dbb7-a428a34d2478"
      },
      "source": [
        "import tabula\n",
        "tabula.environment_info()"
      ],
      "execution_count": null,
      "outputs": [
        {
          "output_type": "stream",
          "text": [
            "Python version:\n",
            "    3.7.10 (default, Feb 20 2021, 21:17:23) \n",
            "[GCC 7.5.0]\n",
            "Java version:\n",
            "    openjdk version \"11.0.10\" 2021-01-19\n",
            "OpenJDK Runtime Environment (build 11.0.10+9-Ubuntu-0ubuntu1.18.04)\n",
            "OpenJDK 64-Bit Server VM (build 11.0.10+9-Ubuntu-0ubuntu1.18.04, mixed mode, sharing)\n",
            "tabula-py version: 2.2.0\n",
            "platform: Linux-4.19.112+-x86_64-with-Ubuntu-18.04-bionic\n",
            "uname:\n",
            "    uname_result(system='Linux', node='beff63d96a71', release='4.19.112+', version='#1 SMP Thu Jul 23 08:00:38 PDT 2020', machine='x86_64', processor='x86_64')\n",
            "linux_distribution: ('Ubuntu', '18.04', 'bionic')\n",
            "mac_ver: ('', ('', '', ''), '')\n",
            "    \n"
          ],
          "name": "stdout"
        }
      ]
    },
    {
      "cell_type": "code",
      "metadata": {
        "colab": {
          "base_uri": "https://localhost:8080/"
        },
        "id": "-SxMjGt82663",
        "outputId": "f0c842d9-6d4c-49b3-e647-e06c36bd5d86"
      },
      "source": [
        "#Considerando que o nome do arquivo pode ser alterado, estou definindo uma variavel para o nome do arquivo baixado que vai estar na posição 1 da listada\n",
        "pdf_file = pdf.split(sep=\"tiss3/\")\n",
        "print(pdf_file)"
      ],
      "execution_count": null,
      "outputs": [
        {
          "output_type": "stream",
          "text": [
            "['http://www.ans.gov.br/images/stories/Plano_de_saude_e_Operadoras/tiss/Padrao_tiss/', 'Padrão_TISS_Componente_Organizacional_202103.pdf']\n"
          ],
          "name": "stdout"
        }
      ]
    },
    {
      "cell_type": "code",
      "metadata": {
        "colab": {
          "base_uri": "https://localhost:8080/",
          "height": 190
        },
        "id": "K5LHvjQWpF3y",
        "outputId": "9c0f45e2-10e7-479b-e719-f29b6373d372"
      },
      "source": [
        "import tabula\n",
        "pdf_path = \"/content/\"+pdf_file[1]\n",
        "dfs = tabula.read_pdf(pdf_path, pages=79, stream=True) #O quadro 30 esta na página 79 do pdf, poderia também ter filtrado por conteúdo\n",
        "print(len(dfs))\n",
        "dfs[1]"
      ],
      "execution_count": null,
      "outputs": [
        {
          "output_type": "stream",
          "text": [
            "2\n"
          ],
          "name": "stdout"
        },
        {
          "output_type": "execute_result",
          "data": {
            "text/html": [
              "<div>\n",
              "<style scoped>\n",
              "    .dataframe tbody tr th:only-of-type {\n",
              "        vertical-align: middle;\n",
              "    }\n",
              "\n",
              "    .dataframe tbody tr th {\n",
              "        vertical-align: top;\n",
              "    }\n",
              "\n",
              "    .dataframe thead th {\n",
              "        text-align: right;\n",
              "    }\n",
              "</style>\n",
              "<table border=\"1\" class=\"dataframe\">\n",
              "  <thead>\n",
              "    <tr style=\"text-align: right;\">\n",
              "      <th></th>\n",
              "      <th>Unnamed: 0</th>\n",
              "      <th>Tabela de Categoria do Padrão TISS</th>\n",
              "    </tr>\n",
              "  </thead>\n",
              "  <tbody>\n",
              "    <tr>\n",
              "      <th>0</th>\n",
              "      <td>Código</td>\n",
              "      <td>Descrição da categoria</td>\n",
              "    </tr>\n",
              "    <tr>\n",
              "      <th>1</th>\n",
              "      <td>1</td>\n",
              "      <td>Componente Organizacional</td>\n",
              "    </tr>\n",
              "    <tr>\n",
              "      <th>2</th>\n",
              "      <td>2</td>\n",
              "      <td>Componente de Conteúdo e Estrutura</td>\n",
              "    </tr>\n",
              "    <tr>\n",
              "      <th>3</th>\n",
              "      <td>3</td>\n",
              "      <td>Componente de Representação de Conceitos em Saúde</td>\n",
              "    </tr>\n",
              "  </tbody>\n",
              "</table>\n",
              "</div>"
            ],
            "text/plain": [
              "  Unnamed: 0                 Tabela de Categoria do Padrão TISS\n",
              "0     Código                             Descrição da categoria\n",
              "1          1                          Componente Organizacional\n",
              "2          2                 Componente de Conteúdo e Estrutura\n",
              "3          3  Componente de Representação de Conceitos em Saúde"
            ]
          },
          "metadata": {
            "tags": []
          },
          "execution_count": 119
        }
      ]
    },
    {
      "cell_type": "code",
      "metadata": {
        "colab": {
          "base_uri": "https://localhost:8080/"
        },
        "id": "8P_jzyL_q4nZ",
        "outputId": "3f163014-5fce-4977-ce9e-2a1ce2e9fcc6"
      },
      "source": [
        "#Salva o quadro 30 em formato cvs, como o quadro 30 esta em cima, determinei a area para parte superior da pagina 79\n",
        "tabula.convert_into(pdf_path, \"quadro30.csv\", output_format=\"csv\", pages=79, stream=True, area=[[80,50,225,420]])\n",
        "!cat quadro30.csv"
      ],
      "execution_count": null,
      "outputs": [
        {
          "output_type": "stream",
          "text": [
            "Quadro 30 – Tabela de tipo de demandante\r\n",
            "Tabela de Tipo do Demandante\r\n",
            "Código Descrição da categoria\r\n",
            "1 Operadora\r\n",
            "2 Prestador de serviço\r\n",
            "3 Consumidor\r\n",
            "4 Gestor\r\n",
            "5 ANS\r\n"
          ],
          "name": "stdout"
        }
      ]
    },
    {
      "cell_type": "code",
      "metadata": {
        "colab": {
          "base_uri": "https://localhost:8080/",
          "height": 190
        },
        "id": "sgwEl5yqt1P6",
        "outputId": "d206fe16-0df6-4821-cbaa-91aa3b16ed47"
      },
      "source": [
        "#O quadro 31 esta em varias paginas do pdf\n",
        "dfs = tabula.read_pdf(pdf_path, pages='79,80,81,82,83,84', stream=True)\n",
        "print(len(dfs))\n",
        "dfs[1]"
      ],
      "execution_count": null,
      "outputs": [
        {
          "output_type": "stream",
          "text": [
            "7\n"
          ],
          "name": "stdout"
        },
        {
          "output_type": "execute_result",
          "data": {
            "text/html": [
              "<div>\n",
              "<style scoped>\n",
              "    .dataframe tbody tr th:only-of-type {\n",
              "        vertical-align: middle;\n",
              "    }\n",
              "\n",
              "    .dataframe tbody tr th {\n",
              "        vertical-align: top;\n",
              "    }\n",
              "\n",
              "    .dataframe thead th {\n",
              "        text-align: right;\n",
              "    }\n",
              "</style>\n",
              "<table border=\"1\" class=\"dataframe\">\n",
              "  <thead>\n",
              "    <tr style=\"text-align: right;\">\n",
              "      <th></th>\n",
              "      <th>Unnamed: 0</th>\n",
              "      <th>Tabela de Categoria do Padrão TISS</th>\n",
              "    </tr>\n",
              "  </thead>\n",
              "  <tbody>\n",
              "    <tr>\n",
              "      <th>0</th>\n",
              "      <td>Código</td>\n",
              "      <td>Descrição da categoria</td>\n",
              "    </tr>\n",
              "    <tr>\n",
              "      <th>1</th>\n",
              "      <td>1</td>\n",
              "      <td>Componente Organizacional</td>\n",
              "    </tr>\n",
              "    <tr>\n",
              "      <th>2</th>\n",
              "      <td>2</td>\n",
              "      <td>Componente de Conteúdo e Estrutura</td>\n",
              "    </tr>\n",
              "    <tr>\n",
              "      <th>3</th>\n",
              "      <td>3</td>\n",
              "      <td>Componente de Representação de Conceitos em Saúde</td>\n",
              "    </tr>\n",
              "  </tbody>\n",
              "</table>\n",
              "</div>"
            ],
            "text/plain": [
              "  Unnamed: 0                 Tabela de Categoria do Padrão TISS\n",
              "0     Código                             Descrição da categoria\n",
              "1          1                          Componente Organizacional\n",
              "2          2                 Componente de Conteúdo e Estrutura\n",
              "3          3  Componente de Representação de Conceitos em Saúde"
            ]
          },
          "metadata": {
            "tags": []
          },
          "execution_count": 121
        }
      ]
    },
    {
      "cell_type": "code",
      "metadata": {
        "colab": {
          "base_uri": "https://localhost:8080/"
        },
        "id": "Ibysnm5Kv1IX",
        "outputId": "722fb37a-49b1-4b73-9829-b3de14c8d8bb"
      },
      "source": [
        "#Salva o quadro 31 da folha 79 em formato cvs. Neste caso o inicio do quadro esta embaixo, então vou pegar somente esta pagina embaixo e o restante do quadro depois faço merge\n",
        "tabula.convert_into(pdf_path, \"quadro31a.csv\", output_format=\"csv\", pages=79, stream=True, area=[[600,50,780,420]])\n",
        "!cat quadro31a.csv"
      ],
      "execution_count": null,
      "outputs": [
        {
          "output_type": "stream",
          "text": [
            "Quadro 31 – Tabela de categoria do Padrão TISS\r\n",
            "Tabela de Categoria do Padrão TISS\r\n",
            "Código Descrição da categoria\r\n",
            "1 Componente Organizacional\r\n",
            "2 Componente de Conteúdo e Estrutura\r\n",
            "3 Componente de Representação de Conceitos em Saúde\r\n"
          ],
          "name": "stdout"
        }
      ]
    },
    {
      "cell_type": "code",
      "metadata": {
        "colab": {
          "base_uri": "https://localhost:8080/"
        },
        "id": "fVVCZ4UtLJ1x",
        "outputId": "debd86ed-c4f5-453a-a9ea-c6787fbbbdd2"
      },
      "source": [
        "#Salva o quadro 31 da folha 80 em diante em formato cvs. Este é o restante do quadro, depois vou fazer merge dos 2 .cvs\n",
        "tabula.convert_into(pdf_path, \"quadro31b.csv\", output_format=\"csv\", pages='80,81,82,83,84', stream=True)\n",
        "!cat quadro31b.csv"
      ],
      "execution_count": null,
      "outputs": [
        {
          "output_type": "stream",
          "text": [
            "4,Componente de Comunicação\r\n",
            "5,Componente de Segurança e Privacidade\r\n",
            "18,\"Terminologia de diárias, taxas e gases medicinais\"\r\n",
            "19,Terminologia de materiais e OPME\r\n",
            "20,Terminologia de medicamentos\r\n",
            "22,Terminologia de procedimentos e eventos em saúde\r\n",
            "23,Terminologia de caráter do atendimento\r\n",
            "24,Terminologia de Classificação Brasileira de Ocupações (CBO)\r\n",
            "25,Terminologia de código da despesa\r\n",
            "26,Terminologia de conselho profissional\r\n",
            "27,Terminologia de débitos e créditos\r\n",
            "28,Terminologia de dentes\r\n",
            "29,Terminologia de diagnóstico por imagem\r\n",
            "30,Terminologia de Escala de capacidade funcional (ECOG - Escala de Zubrod)\r\n",
            "31,Terminologia de estadiamento do tumor\r\n",
            "32,Terminologia de faces do dente\r\n",
            "33,Terminologia de finalidade do tratamento\r\n",
            "34,Terminologia de forma de pagamento\r\n",
            "35,Terminologia de grau de participação\r\n",
            "36,Terminologia de indicador de acidente\r\n",
            "37,Terminologia de Indicador de débito ou crédito\r\n",
            "38,\"Terminologia de mensagens (glosas, negativas e outras)\"\r\n",
            "39,Terminologia de motivo de encerramento\r\n",
            "40,Terminologia de origem do evento de atenção à saúde\r\n",
            "41,Terminologia de regime de internação\r\n",
            "42,Terminologia de regiões da boca\r\n",
            "43,Terminologia de sexo\r\n",
            "44,Terminologia de situação inicial do dente\r\n",
            "45,Terminologia de status da solicitação\r\n",
            "46,Terminologia de status do cancelamento\r\n",
            "47,Terminologia de status do protocolo\r\n",
            "48,Terminologia de técnica utilizada\r\n",
            "49,Terminologia de tipo de acomodação\r\n",
            "50,Terminologia de tipo de atendimento\r\n",
            "51,Terminologia de tipo de atendimento em odontologia\r\n",
            "52,Terminologia de tipo de consulta\r\n",
            "53,Terminologia de tipo de demonstrativo\r\n",
            "54,Terminologia de tipo de guia\r\n",
            "55,Terminologia de tipo de faturamento\r\n",
            "56,Terminologia de natureza da guia\r\n",
            "57,Terminologia de tipo de internação\r\n",
            "58,Terminologia de tipo de quimioterapia\r\n",
            "59,Terminologia de unidade da federação\r\n",
            "60,Terminologia de unidade de medida\r\n",
            "61,Terminologia de via de acesso\r\n",
            "62,Terminologia de via de administração\r\n",
            "63,Terminologia de grupos de procedimentos e itens assistenciais para envio para ANS\r\n",
            "64,Terminologia de forma de envio de procedimentos e itens assistenciais para ANS\r\n",
            "65,Terminologia de metástases\r\n",
            "66,Terminologia de nódulo\r\n",
            "67,Terminologia de tumor\r\n",
            "68,Terminologia de categoria de despesa\r\n",
            "69,Terminologia de versão do componente de comunicação padrão\r\n",
            "70,Terminologia de forma de envio do padrão\r\n",
            "71,Terminologia de tipo de atendimento por operadora intermediária\r\n",
            "72,Terminologia de tipo de identificação de beneficiário\r\n",
            "73,Terminologia de etapas de autorização\r\n",
            "74,Terminologia de motivos de ausência do código de validação\r\n",
            "87,Terminologia de tabelas de domínio\r\n",
            "100,Legenda da mensagem de verificação de elegibilidade\r\n",
            "101,Legenda da mensagem de resposta à verificação de elegibilidade\r\n",
            "\"\",Legenda da mensagem de solicitação de autorização para realização de\r\n",
            "102,\r\n",
            "\"\",procedimentos\r\n",
            "103,Legenda da mensagem de autorização para realização de procedimentos\r\n",
            "104,Legenda da mensagem de envio de lote de anexos\r\n",
            "105,Legenda da mensagem de recebimento de lote de anexos\r\n",
            "106,Legenda da mensagem de solicitação de status de autorização\r\n",
            "107,Legenda da mensagem de situação do status de autorização\r\n",
            "108,Legenda da mensagem de envio de lote de guias para cobrança\r\n",
            "109,Legenda da mensagem de recebimento de lote de guias de cobrança\r\n",
            "110,Legenda da mensagem de solicitação de status do protocolo\r\n",
            "111,Legenda da mensagem de situação do protocolo de cobrança\r\n",
            "112,Legenda da mensagem de recurso de glosa\r\n",
            "113,Legenda da mensagem de recebimento do recurso de glosa\r\n",
            "114,Legenda da mensagem de resposta ao recurso de glosa\r\n",
            "115,Legenda da mensagem de solicitação de status do recurso de glosa\r\n",
            "116,Legenda da mensagem de solicitação de demonstrativos de retorno\r\n",
            "117,Legenda da mensagem de demonstrativos de retorno para o prestador\r\n",
            "118,Legenda da mensagem de comunicação de internação ou alta do beneficiário\r\n",
            "\"\",Legenda da mensagem de resposta à comunicação de internação ou alta do\r\n",
            "119,\r\n",
            "\"\",beneficiário\r\n",
            "120,Legenda da mensagem de solicitação de cancelamento de guia\r\n",
            "121,Legenda da mensagem de resposta a solicitação de cancelamento da guia\r\n",
            "122,Legenda da mensagem de informação acerca da negativa de autorização\r\n",
            "123,Legenda da mensagem de informações sobre partos\r\n",
            "124,Legenda da mensagem de envio de dados para ANS\r\n",
            "125,Legenda da mensagem de utilização de serviços\r\n",
            "126,Legenda da mensagem de negativa de autorização\r\n",
            "127,Legenda da mensagem de informação sobre partos\r\n",
            "128,Mensagem de verificação de elegibilidade (verificaElegibilidade)\r\n",
            "129,Mensagem de resposta à verificação de elegibilidade (respostaElegibilidade)\r\n",
            "\"\",Mensagem de solicitação de autorização para realização de procedimentos\r\n",
            "130,\r\n",
            "\"\",(solicitacaoProcedimento)\r\n",
            "131,Mensagem de autorização para realização de procedimentos (autorizaçãoServiços)\r\n",
            "132,Mensagem de envio de lote de anexos (LoteAnexos)\r\n",
            "133,Mensagem de recebimento de lote de anexos (recebimentoAnexo)\r\n",
            "134,Mensagem de solicitação de status de autorização (solicitaStatusAutorização)\r\n",
            "135,Mensagem de situação do status de autorização (situaçãoAutorização)\r\n",
            "136,Mensagem de envio de lote de guias para cobrança (Loteguias)\r\n",
            "137,Mensagem de recebimento de lote de guias de cobrança (recebimentoLote)\r\n",
            "138,Mensagem de solicitação de status do protocolo (solicitacaoStatusProtocolo)\r\n",
            "139,Mensagem de situação do protocolo de cobrança (situacaoProtocolo)\r\n",
            "140,Mensagem de recurso de glosa (recursoGlosa)\r\n",
            "141,Mensagem de recebimento do recurso de glosa (recebimentoRecursoGlosa)\r\n",
            "142,Mensagem de resposta ao recurso de glosa (respostaRecursoGlosa)\r\n",
            "\"\",Mensagem de solicitação de status do recurso de glosa\r\n",
            "143,\r\n",
            "\"\",(solicitaçãoStatusRecursoGlosa)\r\n",
            "\"\",Mensagem de solicitação de demonstrativos de retorno\r\n",
            "144,\r\n",
            "\"\",(solicitaçãoDemonstrativoRetorno)\r\n",
            "145,Mensagem de demonstrativos de retorno para o prestador (demonstrativosretorno)\r\n",
            "\"\",Mensagem de comunicação de internação ou alta do beneficiário\r\n",
            "146,\r\n",
            "\"\",(comunicacaoInternacao)\r\n",
            "\"\",Mensagem de resposta à comunicação de internação ou alta do beneficiário\r\n",
            "147,\r\n",
            "\"\",(reciboComunicacao)\r\n",
            "148,Mensagem de solicitação de cancelamento de guia (cancelaGuia)\r\n",
            "149,Mensagem de resposta a solicitação de cancelamento da guia (reciboCancelaGuia)\r\n",
            "150,Mensagem de envio de dados para ANS (envioOperadorasANS)\r\n",
            "151,Anexo de outras despesas\r\n",
            "152,Anexo de solicitação de quimioterapia\r\n",
            "153,Anexo de solicitação de radioterapia\r\n",
            "154,Anexo de solicitação OPME\r\n",
            "155,Anexo tratamento odontológico - situação inicial\r\n",
            "156,Guia de comprovante presencial\r\n",
            "157,Guia de consulta\r\n",
            "158,Guia de demonstrativo de análise da conta\r\n",
            "159,Guia de demonstrativo de pagamento\r\n",
            "160,Guia de demonstrativo de pagamento - tratamento odontológico\r\n",
            "161,Guia de honorários\r\n",
            "162,Guia de recurso de glosa\r\n",
            "163,Guia de recurso de glosa odontológica\r\n",
            "164,Guia de resumo de internação\r\n",
            "165,Guia de serviços profissionais/serviço auxiliar de diagnóstico e terapia\r\n",
            "166,Guia de solicitação de internação\r\n",
            "167,Guia de solicitação de prorrogação de internação ou complementação do tratamento\r\n",
            "168,Guia de tratamento odontológico\r\n"
          ],
          "name": "stdout"
        }
      ]
    },
    {
      "cell_type": "code",
      "metadata": {
        "colab": {
          "base_uri": "https://localhost:8080/",
          "height": 190
        },
        "id": "wDjHeE3gweoT",
        "outputId": "8b9c566c-d761-4392-96b8-740b1643f2a2"
      },
      "source": [
        "#E por fim o quadro 32 esta na pagina 85\n",
        "dfs = tabula.read_pdf(pdf_path, pages=85, stream=True)\n",
        "print(len(dfs))\n",
        "dfs[0]"
      ],
      "execution_count": null,
      "outputs": [
        {
          "output_type": "stream",
          "text": [
            "1\n"
          ],
          "name": "stdout"
        },
        {
          "output_type": "execute_result",
          "data": {
            "text/html": [
              "<div>\n",
              "<style scoped>\n",
              "    .dataframe tbody tr th:only-of-type {\n",
              "        vertical-align: middle;\n",
              "    }\n",
              "\n",
              "    .dataframe tbody tr th {\n",
              "        vertical-align: top;\n",
              "    }\n",
              "\n",
              "    .dataframe thead th {\n",
              "        text-align: right;\n",
              "    }\n",
              "</style>\n",
              "<table border=\"1\" class=\"dataframe\">\n",
              "  <thead>\n",
              "    <tr style=\"text-align: right;\">\n",
              "      <th></th>\n",
              "      <th>Tabela de Tipo de Solicitação</th>\n",
              "    </tr>\n",
              "  </thead>\n",
              "  <tbody>\n",
              "    <tr>\n",
              "      <th>0</th>\n",
              "      <td>Código Descrição da categoria</td>\n",
              "    </tr>\n",
              "    <tr>\n",
              "      <th>1</th>\n",
              "      <td>1 Alteração</td>\n",
              "    </tr>\n",
              "    <tr>\n",
              "      <th>2</th>\n",
              "      <td>2 Inclusão</td>\n",
              "    </tr>\n",
              "    <tr>\n",
              "      <th>3</th>\n",
              "      <td>3 Exclusão</td>\n",
              "    </tr>\n",
              "  </tbody>\n",
              "</table>\n",
              "</div>"
            ],
            "text/plain": [
              "   Tabela de Tipo de Solicitação\n",
              "0  Código Descrição da categoria\n",
              "1                    1 Alteração\n",
              "2                     2 Inclusão\n",
              "3                     3 Exclusão"
            ]
          },
          "metadata": {
            "tags": []
          },
          "execution_count": 124
        }
      ]
    },
    {
      "cell_type": "code",
      "metadata": {
        "colab": {
          "base_uri": "https://localhost:8080/"
        },
        "id": "6OW5onePwsNj",
        "outputId": "308745d9-83f9-4854-fcdc-15bf21869d5e"
      },
      "source": [
        "#Salva o quadro 32 em formato cvs\n",
        "tabula.convert_into(pdf_path, \"quadro32.csv\", output_format=\"csv\", pages=85, stream=True)\n",
        "!cat quadro32.csv"
      ],
      "execution_count": null,
      "outputs": [
        {
          "output_type": "stream",
          "text": [
            "Tabela de Tipo de Solicitação\r\n",
            "Código Descrição da categoria\r\n",
            "1 Alteração\r\n",
            "2 Inclusão\r\n",
            "3 Exclusão\r\n"
          ],
          "name": "stdout"
        }
      ]
    },
    {
      "cell_type": "code",
      "metadata": {
        "colab": {
          "base_uri": "https://localhost:8080/"
        },
        "id": "N5Oj-pL7CMVm",
        "outputId": "99bbd243-d30e-4909-c589-7b38cde7965f"
      },
      "source": [
        "#Célula para fazer merge nos 2 .cvs e gerar p quadro31.cvs\n",
        "import pandas as pd\n",
        "files = [\"/content/quadro31a.csv\", \"/content/quadro31b.csv\"]\n",
        "# Combine all three CSV files using the concat method\n",
        "mer = pd.concat([pd.read_csv(f) for f in files])\n",
        "# Export to csv\n",
        "mer.to_csv( \"/content/quadro31.csv\", index=False, encoding='utf-8-sig')\n",
        "data = pd.read_csv(\"/content/quadro31.csv\") \n",
        "print(data)"
      ],
      "execution_count": null,
      "outputs": [
        {
          "output_type": "stream",
          "text": [
            "        Quadro 31 – Tabela de categoria do Padrão TISS  ...                          Componente de Comunicação\n",
            "0                   Tabela de Categoria do Padrão TISS  ...                                                NaN\n",
            "1                        Código Descrição da categoria  ...                                                NaN\n",
            "2                          1 Componente Organizacional  ...                                                NaN\n",
            "3                 2 Componente de Conteúdo e Estrutura  ...                                                NaN\n",
            "4    3 Componente de Representação de Conceitos em ...  ...                                                NaN\n",
            "..                                                 ...  ...                                                ...\n",
            "141                                                NaN  ...                       Guia de resumo de internação\n",
            "142                                                NaN  ...  Guia de serviços profissionais/serviço auxilia...\n",
            "143                                                NaN  ...                  Guia de solicitação de internação\n",
            "144                                                NaN  ...  Guia de solicitação de prorrogação de internaç...\n",
            "145                                                NaN  ...                    Guia de tratamento odontológico\n",
            "\n",
            "[146 rows x 3 columns]\n"
          ],
          "name": "stdout"
        }
      ]
    },
    {
      "cell_type": "code",
      "metadata": {
        "colab": {
          "base_uri": "https://localhost:8080/",
          "height": 17
        },
        "id": "X_zZ-lL-xf71",
        "outputId": "eaae7d71-5f21-499d-8a66-13bb52877505"
      },
      "source": [
        "#Nesta célula eu compacto todos os cvs dentro de Teste_Intuitive_Care_Edvandro.zip e baixa o arquivo\n",
        "from google.colab import files\n",
        "import zipfile       \n",
        "jungle_zip = zipfile.ZipFile('/content/Teste_Intuitive_Care_Edvandro.zip', 'w')\n",
        "jungle_zip.write('/content/quadro30.csv', compress_type=zipfile.ZIP_DEFLATED)\n",
        "jungle_zip.write('/content/quadro31.csv', compress_type=zipfile.ZIP_DEFLATED)\n",
        "jungle_zip.write('/content/quadro32.csv', compress_type=zipfile.ZIP_DEFLATED) \n",
        "jungle_zip.close()\n",
        "files.download('/content/Teste_Intuitive_Care_Edvandro.zip')"
      ],
      "execution_count": null,
      "outputs": [
        {
          "output_type": "display_data",
          "data": {
            "application/javascript": [
              "\n",
              "    async function download(id, filename, size) {\n",
              "      if (!google.colab.kernel.accessAllowed) {\n",
              "        return;\n",
              "      }\n",
              "      const div = document.createElement('div');\n",
              "      const label = document.createElement('label');\n",
              "      label.textContent = `Downloading \"${filename}\": `;\n",
              "      div.appendChild(label);\n",
              "      const progress = document.createElement('progress');\n",
              "      progress.max = size;\n",
              "      div.appendChild(progress);\n",
              "      document.body.appendChild(div);\n",
              "\n",
              "      const buffers = [];\n",
              "      let downloaded = 0;\n",
              "\n",
              "      const channel = await google.colab.kernel.comms.open(id);\n",
              "      // Send a message to notify the kernel that we're ready.\n",
              "      channel.send({})\n",
              "\n",
              "      for await (const message of channel.messages) {\n",
              "        // Send a message to notify the kernel that we're ready.\n",
              "        channel.send({})\n",
              "        if (message.buffers) {\n",
              "          for (const buffer of message.buffers) {\n",
              "            buffers.push(buffer);\n",
              "            downloaded += buffer.byteLength;\n",
              "            progress.value = downloaded;\n",
              "          }\n",
              "        }\n",
              "      }\n",
              "      const blob = new Blob(buffers, {type: 'application/binary'});\n",
              "      const a = document.createElement('a');\n",
              "      a.href = window.URL.createObjectURL(blob);\n",
              "      a.download = filename;\n",
              "      div.appendChild(a);\n",
              "      a.click();\n",
              "      div.remove();\n",
              "    }\n",
              "  "
            ],
            "text/plain": [
              "<IPython.core.display.Javascript object>"
            ]
          },
          "metadata": {
            "tags": []
          }
        },
        {
          "output_type": "display_data",
          "data": {
            "application/javascript": [
              "download(\"download_539e6fe4-80fe-4068-a01a-76913254fe20\", \"Teste_Intuitive_Care_Edvandro.zip\", 2541)"
            ],
            "text/plain": [
              "<IPython.core.display.Javascript object>"
            ]
          },
          "metadata": {
            "tags": []
          }
        }
      ]
    }
  ]
}